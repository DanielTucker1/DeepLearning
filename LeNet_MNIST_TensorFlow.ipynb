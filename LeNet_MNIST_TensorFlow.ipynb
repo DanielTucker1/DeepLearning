{
  "nbformat": 4,
  "nbformat_minor": 0,
  "metadata": {
    "colab": {
      "provenance": []
    },
    "kernelspec": {
      "name": "python3",
      "display_name": "Python 3"
    },
    "language_info": {
      "name": "python"
    }
  },
  "cells": [
    {
      "cell_type": "markdown",
      "source": [
        "Implement the LeNet architecture for classification of MNIST data."
      ],
      "metadata": {
        "id": "QqnT-y7SjnF9"
      }
    },
    {
      "cell_type": "code",
      "source": [
        "# import libraries"
      ],
      "metadata": {
        "id": "zGMAdHzjluh9"
      },
      "execution_count": 1,
      "outputs": []
    },
    {
      "cell_type": "code",
      "source": [
        "# Load the MNIST dataset using the mnist.load_data() function."
      ],
      "metadata": {
        "id": "PP20BFX_llks"
      },
      "execution_count": 2,
      "outputs": []
    },
    {
      "cell_type": "code",
      "source": [
        "# Normalize the pixel values to the range [0, 1] using the astype() method."
      ],
      "metadata": {
        "id": "yeg5fC0cl5km"
      },
      "execution_count": 3,
      "outputs": []
    },
    {
      "cell_type": "code",
      "source": [
        "# Reshape the input data to have a single channel using the reshape() method."
      ],
      "metadata": {
        "id": "ijzdXjR_l90A"
      },
      "execution_count": 4,
      "outputs": []
    },
    {
      "cell_type": "code",
      "source": [
        "# Convert the labels to one-hot encoding using the to_categorical() function."
      ],
      "metadata": {
        "id": "2-jQFB3fmDNc"
      },
      "execution_count": 5,
      "outputs": []
    },
    {
      "cell_type": "code",
      "source": [
        "# Define the LeNet model architecture using the Sequential() function and add convolutional, average pooling, and dense layers using the Conv2D(), AveragePooling2D(), Flatten(), and Dense() functions."
      ],
      "metadata": {
        "id": "bNYJQplcmGxP"
      },
      "execution_count": 6,
      "outputs": []
    },
    {
      "cell_type": "code",
      "source": [
        "# Compile the model using the compile() method and specify the optimizer, loss function, and metrics to use during training."
      ],
      "metadata": {
        "id": "xTsZJ0uHmNoV"
      },
      "execution_count": 7,
      "outputs": []
    },
    {
      "cell_type": "code",
      "source": [
        "# Train the model using the fit() method and specify the number of epochs to train for and the batch size to use."
      ],
      "metadata": {
        "id": "jrUv7WAzmPLc"
      },
      "execution_count": 8,
      "outputs": []
    },
    {
      "cell_type": "code",
      "source": [
        "# Evaluate the model on the test set using the evaluate() method and print the test accuracy."
      ],
      "metadata": {
        "id": "bHXXsPCamSEE"
      },
      "execution_count": 9,
      "outputs": []
    },
    {
      "cell_type": "code",
      "source": [
        "# Display a few example plots of test results"
      ],
      "metadata": {
        "id": "4VWhRTC6mrwc"
      },
      "execution_count": 10,
      "outputs": []
    },
    {
      "cell_type": "code",
      "execution_count": 11,
      "metadata": {
        "colab": {
          "base_uri": "https://localhost:8080/"
        },
        "id": "oot17pSii4X1",
        "outputId": "3eb30d63-87d4-4ceb-cecb-6b84336fe78e"
      },
      "outputs": [
        {
          "output_type": "stream",
          "name": "stdout",
          "text": [
            "Downloading data from https://storage.googleapis.com/tensorflow/tf-keras-datasets/mnist.npz\n",
            "11490434/11490434 [==============================] - 1s 0us/step\n",
            "Epoch 1/10\n",
            "469/469 [==============================] - 50s 99ms/step - loss: 0.3584 - accuracy: 0.8936 - val_loss: 0.1164 - val_accuracy: 0.9645\n",
            "Epoch 2/10\n",
            "469/469 [==============================] - 39s 82ms/step - loss: 0.1016 - accuracy: 0.9696 - val_loss: 0.0699 - val_accuracy: 0.9770\n",
            "Epoch 3/10\n",
            "469/469 [==============================] - 39s 84ms/step - loss: 0.0704 - accuracy: 0.9787 - val_loss: 0.0545 - val_accuracy: 0.9818\n",
            "Epoch 4/10\n",
            "469/469 [==============================] - 40s 84ms/step - loss: 0.0560 - accuracy: 0.9830 - val_loss: 0.0497 - val_accuracy: 0.9842\n",
            "Epoch 5/10\n",
            "469/469 [==============================] - 39s 83ms/step - loss: 0.0476 - accuracy: 0.9855 - val_loss: 0.0437 - val_accuracy: 0.9847\n",
            "Epoch 6/10\n",
            "469/469 [==============================] - 39s 83ms/step - loss: 0.0397 - accuracy: 0.9876 - val_loss: 0.0490 - val_accuracy: 0.9838\n",
            "Epoch 7/10\n",
            "469/469 [==============================] - 39s 83ms/step - loss: 0.0336 - accuracy: 0.9897 - val_loss: 0.0354 - val_accuracy: 0.9886\n",
            "Epoch 8/10\n",
            "469/469 [==============================] - 39s 83ms/step - loss: 0.0299 - accuracy: 0.9906 - val_loss: 0.0370 - val_accuracy: 0.9875\n",
            "Epoch 9/10\n",
            "469/469 [==============================] - 39s 82ms/step - loss: 0.0255 - accuracy: 0.9918 - val_loss: 0.0425 - val_accuracy: 0.9844\n",
            "Epoch 10/10\n",
            "469/469 [==============================] - 39s 83ms/step - loss: 0.0239 - accuracy: 0.9919 - val_loss: 0.0551 - val_accuracy: 0.9830\n",
            "313/313 [==============================] - 4s 13ms/step - loss: 0.0551 - accuracy: 0.9830\n",
            "Test Loss:  0.055091071873903275\n",
            "Test Accuracy: 0.9829999804496765\n"
          ]
        }
      ],
      "source": [
        "import tensorflow as tf\n",
        "from tensorflow.keras.datasets import mnist\n",
        "from tensorflow.keras.models import Sequential\n",
        "from tensorflow.keras.layers import Conv2D, AveragePooling2D, Flatten, Dense\n",
        "\n",
        "# Load the MNIST dataset\n",
        "(x_train, y_train), (x_test, y_test) = mnist.load_data()\n",
        "\n",
        "# Normalize the pixel values to the range [0, 1]\n",
        "x_train = x_train.astype(\"float32\") / 255.0\n",
        "x_test = x_test.astype(\"float32\") / 255.0\n",
        "\n",
        "# Reshape the input data to have a single channel\n",
        "x_train = x_train.reshape((x_train.shape[0], 28, 28, 1))\n",
        "x_test = x_test.reshape((x_test.shape[0], 28, 28, 1))\n",
        "\n",
        "# Convert the labels to one-hot encoding\n",
        "num_classes = 10\n",
        "y_train = tf.keras.utils.to_categorical(y_train, num_classes)\n",
        "y_test = tf.keras.utils.to_categorical(y_test, num_classes)\n",
        "\n",
        "# Define the LeNet model architecture\n",
        "model = Sequential([\n",
        "    Conv2D(6, (5, 5), activation=\"relu\", padding='same', input_shape=(28, 28, 1)),\n",
        "    AveragePooling2D(),\n",
        "    Conv2D(16, (5, 5), activation=\"relu\"),\n",
        "    AveragePooling2D(),\n",
        "    Flatten(),\n",
        "    Dense(120, activation=\"relu\"),\n",
        "    Dense(84, activation=\"relu\"),\n",
        "    Dense(num_classes, activation=\"softmax\")\n",
        "])\n",
        "\n",
        "# Compile the model\n",
        "model.compile(optimizer=\"adam\", loss=\"categorical_crossentropy\", metrics=[\"accuracy\"])\n",
        "\n",
        "# Train the model\n",
        "model.fit(x_train, y_train, epochs=10, batch_size=128, validation_data=(x_test, y_test))\n",
        "\n",
        "# Evaluate the model on the test set\n",
        "test_loss, test_acc = model.evaluate(x_test, y_test)\n",
        "print(\"Test Loss: \", test_loss)\n",
        "print(\"Test Accuracy:\", test_acc)\n"
      ]
    },
    {
      "cell_type": "code",
      "source": [
        "model.summary()"
      ],
      "metadata": {
        "colab": {
          "base_uri": "https://localhost:8080/"
        },
        "id": "bID7Zwkmo691",
        "outputId": "f0f59a2d-623a-4f28-9046-eecf7cb531ce"
      },
      "execution_count": 12,
      "outputs": [
        {
          "output_type": "stream",
          "name": "stdout",
          "text": [
            "Model: \"sequential\"\n",
            "_________________________________________________________________\n",
            " Layer (type)                Output Shape              Param #   \n",
            "=================================================================\n",
            " conv2d (Conv2D)             (None, 28, 28, 6)         156       \n",
            "                                                                 \n",
            " average_pooling2d (AverageP  (None, 14, 14, 6)        0         \n",
            " ooling2D)                                                       \n",
            "                                                                 \n",
            " conv2d_1 (Conv2D)           (None, 10, 10, 16)        2416      \n",
            "                                                                 \n",
            " average_pooling2d_1 (Averag  (None, 5, 5, 16)         0         \n",
            " ePooling2D)                                                     \n",
            "                                                                 \n",
            " flatten (Flatten)           (None, 400)               0         \n",
            "                                                                 \n",
            " dense (Dense)               (None, 120)               48120     \n",
            "                                                                 \n",
            " dense_1 (Dense)             (None, 84)                10164     \n",
            "                                                                 \n",
            " dense_2 (Dense)             (None, 10)                850       \n",
            "                                                                 \n",
            "=================================================================\n",
            "Total params: 61,706\n",
            "Trainable params: 61,706\n",
            "Non-trainable params: 0\n",
            "_________________________________________________________________\n"
          ]
        }
      ]
    },
    {
      "cell_type": "code",
      "source": [
        "import matplotlib.pyplot as plt\n",
        "import matplotlib.cm as cm\n",
        "\n",
        "# One image prediction\n",
        "image_index = 200\n",
        "plt.imshow(x_test[image_index].reshape(28, 28), cmap='Greys')\n",
        "pred = model.predict(x_test[image_index].reshape(1, 28, 28, 1))\n",
        "print(pred.argmax())"
      ],
      "metadata": {
        "id": "Mr8fOQ5oKpJK",
        "outputId": "89ca79f2-a4d9-42ca-f0ce-6cd9643c995e",
        "colab": {
          "base_uri": "https://localhost:8080/",
          "height": 465
        }
      },
      "execution_count": 13,
      "outputs": [
        {
          "output_type": "stream",
          "name": "stdout",
          "text": [
            "1/1 [==============================] - 0s 125ms/step\n",
            "3\n"
          ]
        },
        {
          "output_type": "display_data",
          "data": {
            "text/plain": [
              "<Figure size 640x480 with 1 Axes>"
            ],
            "image/png": "[encoded data removed]"
          },
          "metadata": {}
        }
      ]
    },
    {
      "cell_type": "code",
      "source": [
        "import matplotlib.pyplot as plt\n",
        "import numpy as np\n",
        "\n",
        "# Get the predicted labels for the test set\n",
        "y_pred = model.predict(x_test)\n",
        "y_pred = np.argmax(y_pred, axis=1)\n",
        "\n",
        "# Display a few example plots of test results\n",
        "fig, axs = plt.subplots(3, 3, figsize=(8, 8))\n",
        "fig.subplots_adjust(hspace=0.4, wspace=0.4)\n",
        "axs = axs.ravel()\n",
        "for i in range(9):\n",
        "    idx = np.random.randint(0, len(x_test))\n",
        "    axs[i].imshow(x_test[idx, :, :, 0], cmap=\"gray\")\n",
        "    axs[i].set_title(f\"True: {np.argmax(y_test[idx])}, Pred: {y_pred[idx]}\")\n",
        "    axs[i].axis(\"off\")\n",
        "plt.show()\n"
      ],
      "metadata": {
        "colab": {
          "base_uri": "https://localhost:8080/",
          "height": 692
        },
        "id": "jLrorunxk7od",
        "outputId": "062c3823-9f14-4788-c4d2-ca27a26332f2"
      },
      "execution_count": 14,
      "outputs": [
        {
          "output_type": "stream",
          "name": "stdout",
          "text": [
            "313/313 [==============================] - 3s 9ms/step\n"
          ]
        },
        {
          "output_type": "display_data",
          "data": {
            "text/plain": [
              "<Figure size 800x800 with 9 Axes>"
            ],
            "image/png": "[encoded data removed]"
          },
          "metadata": {}
        }
      ]
    }
  ]
}