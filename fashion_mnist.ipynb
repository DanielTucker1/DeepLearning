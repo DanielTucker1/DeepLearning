{
  "nbformat": 4,
  "nbformat_minor": 0,
  "metadata": {
    "colab": {
      "name": "fashion_mnist.ipynb",
      "provenance": []
    },
    "kernelspec": {
      "name": "python3",
      "display_name": "Python 3"
    },
    "language_info": {
      "name": "python"
    }
  },
  "cells": [
    {
      "cell_type": "markdown",
      "metadata": {
        "id": "8TlEhsfJ9rti"
      },
      "source": [
        "# Image Classification using Fashion-MNIST image data"
      ]
    },
    {
      "cell_type": "code",
      "metadata": {
        "colab": {
          "base_uri": "https://localhost:8080/"
        },
        "id": "usCuJHFQqqFz",
        "outputId": "61369014-7d7d-4d85-b8ea-06a912941b3f"
      },
      "source": [
        "import tensorflow as tf\n",
        "from tensorflow import keras\n",
        "print(tf.__version__)\n",
        "\n",
        "import numpy as np\n",
        "import matplotlib.pyplot as plt"
      ],
      "execution_count": 1,
      "outputs": [
        {
          "output_type": "stream",
          "name": "stdout",
          "text": [
            "2.12.0\n"
          ]
        }
      ]
    },
    {
      "cell_type": "markdown",
      "metadata": {
        "id": "dtQfJNudsBZI"
      },
      "source": [
        "## Load image data\n",
        "\n",
        "Fashion-MNIST is a dataset of Zalando's article images consisting of a training set of 60,000 examples and a test set of 10,000 examples. Each example is a 28x28 grayscale image, associated with a label from 10 classes.\n",
        "\n",
        "https://www.tensorflow.org/datasets/catalog/fashion_mnist\n",
        "\n",
        "https://github.com/zalandoresearch/fashion-mnist"
      ]
    },
    {
      "cell_type": "code",
      "metadata": {
        "id": "LHrt3jJRrbM5",
        "colab": {
          "base_uri": "https://localhost:8080/"
        },
        "outputId": "9821980f-c743-4ee9-d491-a62f949718d1"
      },
      "source": [
        "fashion_mnist = keras.datasets.fashion_mnist\n",
        "(train_images, train_labels), (test_images, test_labels) = fashion_mnist.load_data()"
      ],
      "execution_count": 2,
      "outputs": [
        {
          "output_type": "stream",
          "name": "stdout",
          "text": [
            "Downloading data from https://storage.googleapis.com/tensorflow/tf-keras-datasets/train-labels-idx1-ubyte.gz\n",
            "29515/29515 [==============================] - 0s 0us/step\n",
            "Downloading data from https://storage.googleapis.com/tensorflow/tf-keras-datasets/train-images-idx3-ubyte.gz\n",
            "26421880/26421880 [==============================] - 0s 0us/step\n",
            "Downloading data from https://storage.googleapis.com/tensorflow/tf-keras-datasets/t10k-labels-idx1-ubyte.gz\n",
            "5148/5148 [==============================] - 0s 0us/step\n",
            "Downloading data from https://storage.googleapis.com/tensorflow/tf-keras-datasets/t10k-images-idx3-ubyte.gz\n",
            "4422102/4422102 [==============================] - 0s 0us/step\n"
          ]
        }
      ]
    },
    {
      "cell_type": "markdown",
      "metadata": {
        "id": "Bhv14ObBswiA"
      },
      "source": [
        "Pixel values are between 0 and 255, 0 being black and 255 white (grey-scale image).\n",
        "\n",
        "Check the loaded data - Image"
      ]
    },
    {
      "cell_type": "code",
      "metadata": {
        "colab": {
          "base_uri": "https://localhost:8080/"
        },
        "id": "HLX_RkQGsI6o",
        "outputId": "ae74ddfa-f35b-4ebc-b978-3290dca4f4ba"
      },
      "source": [
        "print(train_images.shape)\n",
        "print(train_images[0,:])"
      ],
      "execution_count": 3,
      "outputs": [
        {
          "output_type": "stream",
          "name": "stdout",
          "text": [
            "(60000, 28, 28)\n",
            "[[  0   0   0   0   0   0   0   0   0   0   0   0   0   0   0   0   0   0\n",
            "    0   0   0   0   0   0   0   0   0   0]\n",
            " [  0   0   0   0   0   0   0   0   0   0   0   0   0   0   0   0   0   0\n",
            "    0   0   0   0   0   0   0   0   0   0]\n",
            " [  0   0   0   0   0   0   0   0   0   0   0   0   0   0   0   0   0   0\n",
            "    0   0   0   0   0   0   0   0   0   0]\n",
            " [  0   0   0   0   0   0   0   0   0   0   0   0   1   0   0  13  73   0\n",
            "    0   1   4   0   0   0   0   1   1   0]\n",
            " [  0   0   0   0   0   0   0   0   0   0   0   0   3   0  36 136 127  62\n",
            "   54   0   0   0   1   3   4   0   0   3]\n",
            " [  0   0   0   0   0   0   0   0   0   0   0   0   6   0 102 204 176 134\n",
            "  144 123  23   0   0   0   0  12  10   0]\n",
            " [  0   0   0   0   0   0   0   0   0   0   0   0   0   0 155 236 207 178\n",
            "  107 156 161 109  64  23  77 130  72  15]\n",
            " [  0   0   0   0   0   0   0   0   0   0   0   1   0  69 207 223 218 216\n",
            "  216 163 127 121 122 146 141  88 172  66]\n",
            " [  0   0   0   0   0   0   0   0   0   1   1   1   0 200 232 232 233 229\n",
            "  223 223 215 213 164 127 123 196 229   0]\n",
            " [  0   0   0   0   0   0   0   0   0   0   0   0   0 183 225 216 223 228\n",
            "  235 227 224 222 224 221 223 245 173   0]\n",
            " [  0   0   0   0   0   0   0   0   0   0   0   0   0 193 228 218 213 198\n",
            "  180 212 210 211 213 223 220 243 202   0]\n",
            " [  0   0   0   0   0   0   0   0   0   1   3   0  12 219 220 212 218 192\n",
            "  169 227 208 218 224 212 226 197 209  52]\n",
            " [  0   0   0   0   0   0   0   0   0   0   6   0  99 244 222 220 218 203\n",
            "  198 221 215 213 222 220 245 119 167  56]\n",
            " [  0   0   0   0   0   0   0   0   0   4   0   0  55 236 228 230 228 240\n",
            "  232 213 218 223 234 217 217 209  92   0]\n",
            " [  0   0   1   4   6   7   2   0   0   0   0   0 237 226 217 223 222 219\n",
            "  222 221 216 223 229 215 218 255  77   0]\n",
            " [  0   3   0   0   0   0   0   0   0  62 145 204 228 207 213 221 218 208\n",
            "  211 218 224 223 219 215 224 244 159   0]\n",
            " [  0   0   0   0  18  44  82 107 189 228 220 222 217 226 200 205 211 230\n",
            "  224 234 176 188 250 248 233 238 215   0]\n",
            " [  0  57 187 208 224 221 224 208 204 214 208 209 200 159 245 193 206 223\n",
            "  255 255 221 234 221 211 220 232 246   0]\n",
            " [  3 202 228 224 221 211 211 214 205 205 205 220 240  80 150 255 229 221\n",
            "  188 154 191 210 204 209 222 228 225   0]\n",
            " [ 98 233 198 210 222 229 229 234 249 220 194 215 217 241  65  73 106 117\n",
            "  168 219 221 215 217 223 223 224 229  29]\n",
            " [ 75 204 212 204 193 205 211 225 216 185 197 206 198 213 240 195 227 245\n",
            "  239 223 218 212 209 222 220 221 230  67]\n",
            " [ 48 203 183 194 213 197 185 190 194 192 202 214 219 221 220 236 225 216\n",
            "  199 206 186 181 177 172 181 205 206 115]\n",
            " [  0 122 219 193 179 171 183 196 204 210 213 207 211 210 200 196 194 191\n",
            "  195 191 198 192 176 156 167 177 210  92]\n",
            " [  0   0  74 189 212 191 175 172 175 181 185 188 189 188 193 198 204 209\n",
            "  210 210 211 188 188 194 192 216 170   0]\n",
            " [  2   0   0   0  66 200 222 237 239 242 246 243 244 221 220 193 191 179\n",
            "  182 182 181 176 166 168  99  58   0   0]\n",
            " [  0   0   0   0   0   0   0  40  61  44  72  41  35   0   0   0   0   0\n",
            "    0   0   0   0   0   0   0   0   0   0]\n",
            " [  0   0   0   0   0   0   0   0   0   0   0   0   0   0   0   0   0   0\n",
            "    0   0   0   0   0   0   0   0   0   0]\n",
            " [  0   0   0   0   0   0   0   0   0   0   0   0   0   0   0   0   0   0\n",
            "    0   0   0   0   0   0   0   0   0   0]]\n"
          ]
        }
      ]
    },
    {
      "cell_type": "code",
      "metadata": {
        "colab": {
          "base_uri": "https://localhost:8080/",
          "height": 430
        },
        "id": "zekY0RBftpAA",
        "outputId": "0b760b50-15e9-4bcf-b073-6d87d6095e10"
      },
      "source": [
        "plt.figure()\n",
        "plt.imshow(train_images[36])\n",
        "plt.colorbar()\n",
        "plt.grid(False)\n",
        "plt.show()"
      ],
      "execution_count": 4,
      "outputs": [
        {
          "output_type": "display_data",
          "data": {
            "text/plain": [
              "<Figure size 640x480 with 2 Axes>"
            ],
            "image/png": "[encoded data removed]"
          },
          "metadata": {}
        }
      ]
    },
    {
      "cell_type": "markdown",
      "metadata": {
        "id": "kXHL34qutEww"
      },
      "source": [
        "Labels are integers from 0 to 9.  Each represents a specific article of clothing.\n",
        "\n",
        "Check the loaded data - Label"
      ]
    },
    {
      "cell_type": "code",
      "metadata": {
        "colab": {
          "base_uri": "https://localhost:8080/"
        },
        "id": "k1SaLSmPspYw",
        "outputId": "7a8d71a3-5a20-4cf4-d305-dc93e7cd918d"
      },
      "source": [
        "train_labels[:12]  # First 12 training labels"
      ],
      "execution_count": 5,
      "outputs": [
        {
          "output_type": "execute_result",
          "data": {
            "text/plain": [
              "array([9, 0, 0, 3, 0, 2, 7, 2, 5, 5, 0, 9], dtype=uint8)"
            ]
          },
          "metadata": {},
          "execution_count": 5
        }
      ]
    },
    {
      "cell_type": "markdown",
      "metadata": {
        "id": "WuQc91CCl_Cw"
      },
      "source": [
        "Define class names"
      ]
    },
    {
      "cell_type": "code",
      "metadata": {
        "id": "fwNkcOhPtpMX"
      },
      "source": [
        "class_names = ['T-shirt/top', 'Trouser', 'Pullover', 'Dress', 'Coat', 'Sandal', 'Shirt', 'Sneaker', 'Bag', 'Ankle boot']"
      ],
      "execution_count": 6,
      "outputs": []
    },
    {
      "cell_type": "markdown",
      "metadata": {
        "id": "44S38onPrbDw"
      },
      "source": [
        "## Data Preprocessing"
      ]
    },
    {
      "cell_type": "code",
      "metadata": {
        "id": "0YEcXFcLuVx_"
      },
      "source": [
        "train_images = train_images / 255.0\n",
        "test_images = test_images / 255.0\n",
        "\n",
        "train_images = train_images.astype('float32')\n",
        "test_images = test_images.astype('float32')\n",
        "\n",
        "# Reshape the array to 4-dims so that it can work with the Keras API\n",
        "train_images = train_images.reshape(train_images.shape[0], 28, 28, 1)\n",
        "test_images = test_images.reshape(test_images.shape[0], 28, 28, 1)\n",
        "input_shape = (28, 28, 1)"
      ],
      "execution_count": 7,
      "outputs": []
    },
    {
      "cell_type": "markdown",
      "metadata": {
        "id": "p7Q2UPVMufYW"
      },
      "source": [
        "## Build the Model"
      ]
    },
    {
      "cell_type": "code",
      "metadata": {
        "id": "kOlqAcnfuieP"
      },
      "source": [
        "model = keras.Sequential([\n",
        "    keras.layers.Conv2D(6, kernel_size=(5,5), padding='same', input_shape=input_shape),\n",
        "    keras.layers.MaxPooling2D(pool_size=(2,2)),\n",
        "    keras.layers.Conv2D(16, kernel_size=(5,5)),\n",
        "    keras.layers.MaxPooling2D(pool_size=(2,2)),\n",
        "    keras.layers.Flatten(),\n",
        "    keras.layers.Dense(128, activation='relu'),\n",
        "    keras.layers.Dense(64, activation='relu'),\n",
        "    keras.layers.Dropout(0.2),\n",
        "    keras.layers.Dense(10, activation='softmax')\n",
        "])"
      ],
      "execution_count": 8,
      "outputs": []
    },
    {
      "cell_type": "code",
      "metadata": {
        "colab": {
          "base_uri": "https://localhost:8080/"
        },
        "id": "wC1SK5bZ7X7k",
        "outputId": "7a2be4b6-c5af-4f48-cceb-13b15e743387"
      },
      "source": [
        "model.summary()"
      ],
      "execution_count": 9,
      "outputs": [
        {
          "output_type": "stream",
          "name": "stdout",
          "text": [
            "Model: \"sequential\"\n",
            "_________________________________________________________________\n",
            " Layer (type)                Output Shape              Param #   \n",
            "=================================================================\n",
            " conv2d (Conv2D)             (None, 28, 28, 6)         156       \n",
            "                                                                 \n",
            " max_pooling2d (MaxPooling2D  (None, 14, 14, 6)        0         \n",
            " )                                                               \n",
            "                                                                 \n",
            " conv2d_1 (Conv2D)           (None, 10, 10, 16)        2416      \n",
            "                                                                 \n",
            " max_pooling2d_1 (MaxPooling  (None, 5, 5, 16)         0         \n",
            " 2D)                                                             \n",
            "                                                                 \n",
            " flatten (Flatten)           (None, 400)               0         \n",
            "                                                                 \n",
            " dense (Dense)               (None, 128)               51328     \n",
            "                                                                 \n",
            " dense_1 (Dense)             (None, 64)                8256      \n",
            "                                                                 \n",
            " dropout (Dropout)           (None, 64)                0         \n",
            "                                                                 \n",
            " dense_2 (Dense)             (None, 10)                650       \n",
            "                                                                 \n",
            "=================================================================\n",
            "Total params: 62,806\n",
            "Trainable params: 62,806\n",
            "Non-trainable params: 0\n",
            "_________________________________________________________________\n"
          ]
        }
      ]
    },
    {
      "cell_type": "markdown",
      "metadata": {
        "id": "tdTQocvrvkKv"
      },
      "source": [
        "## Compile the Model"
      ]
    },
    {
      "cell_type": "code",
      "metadata": {
        "id": "e1KtOpDTvmSY"
      },
      "source": [
        "model.compile(optimizer='adam',\n",
        "              loss='sparse_categorical_crossentropy',\n",
        "              metrics=['accuracy'])"
      ],
      "execution_count": 10,
      "outputs": []
    },
    {
      "cell_type": "markdown",
      "metadata": {
        "id": "4Mf-hV_Kv9Fo"
      },
      "source": [
        "## Train the Model"
      ]
    },
    {
      "cell_type": "code",
      "metadata": {
        "colab": {
          "base_uri": "https://localhost:8080/"
        },
        "id": "PB82VLNRv_PX",
        "outputId": "f76f99bc-eebe-4c34-a8cf-a66596caa243"
      },
      "source": [
        "model.fit(train_images, train_labels, epochs=30)"
      ],
      "execution_count": 11,
      "outputs": [
        {
          "output_type": "stream",
          "name": "stdout",
          "text": [
            "Epoch 1/30\n",
            "1875/1875 [==============================] - 58s 28ms/step - loss: 0.5153 - accuracy: 0.8164\n",
            "Epoch 2/30\n",
            "1875/1875 [==============================] - 47s 25ms/step - loss: 0.3485 - accuracy: 0.8734\n",
            "Epoch 3/30\n",
            "1875/1875 [==============================] - 46s 25ms/step - loss: 0.3066 - accuracy: 0.8888\n",
            "Epoch 4/30\n",
            "1875/1875 [==============================] - 47s 25ms/step - loss: 0.2786 - accuracy: 0.8978\n",
            "Epoch 5/30\n",
            "1875/1875 [==============================] - 45s 24ms/step - loss: 0.2545 - accuracy: 0.9068\n",
            "Epoch 6/30\n",
            "1875/1875 [==============================] - 47s 25ms/step - loss: 0.2374 - accuracy: 0.9115\n",
            "Epoch 7/30\n",
            "1875/1875 [==============================] - 45s 24ms/step - loss: 0.2193 - accuracy: 0.9183\n",
            "Epoch 8/30\n",
            "1875/1875 [==============================] - 47s 25ms/step - loss: 0.2069 - accuracy: 0.9232\n",
            "Epoch 9/30\n",
            "1875/1875 [==============================] - 46s 25ms/step - loss: 0.1944 - accuracy: 0.9280\n",
            "Epoch 10/30\n",
            "1875/1875 [==============================] - 47s 25ms/step - loss: 0.1820 - accuracy: 0.9307\n",
            "Epoch 11/30\n",
            "1875/1875 [==============================] - 45s 24ms/step - loss: 0.1711 - accuracy: 0.9347\n",
            "Epoch 12/30\n",
            "1875/1875 [==============================] - 46s 25ms/step - loss: 0.1601 - accuracy: 0.9396\n",
            "Epoch 13/30\n",
            "1875/1875 [==============================] - 46s 25ms/step - loss: 0.1522 - accuracy: 0.9422\n",
            "Epoch 14/30\n",
            "1875/1875 [==============================] - 46s 25ms/step - loss: 0.1475 - accuracy: 0.9447\n",
            "Epoch 15/30\n",
            "1875/1875 [==============================] - 48s 25ms/step - loss: 0.1364 - accuracy: 0.9478\n",
            "Epoch 16/30\n",
            "1875/1875 [==============================] - 46s 25ms/step - loss: 0.1309 - accuracy: 0.9507\n",
            "Epoch 17/30\n",
            "1875/1875 [==============================] - 47s 25ms/step - loss: 0.1248 - accuracy: 0.9518\n",
            "Epoch 18/30\n",
            "1875/1875 [==============================] - 46s 24ms/step - loss: 0.1191 - accuracy: 0.9548\n",
            "Epoch 19/30\n",
            "1875/1875 [==============================] - 47s 25ms/step - loss: 0.1168 - accuracy: 0.9555\n",
            "Epoch 20/30\n",
            "1875/1875 [==============================] - 46s 24ms/step - loss: 0.1077 - accuracy: 0.9581\n",
            "Epoch 21/30\n",
            "1875/1875 [==============================] - 47s 25ms/step - loss: 0.1040 - accuracy: 0.9607\n",
            "Epoch 22/30\n",
            "1875/1875 [==============================] - 45s 24ms/step - loss: 0.0994 - accuracy: 0.9616\n",
            "Epoch 23/30\n",
            "1875/1875 [==============================] - 47s 25ms/step - loss: 0.0965 - accuracy: 0.9626\n",
            "Epoch 24/30\n",
            "1875/1875 [==============================] - 45s 24ms/step - loss: 0.0935 - accuracy: 0.9635\n",
            "Epoch 25/30\n",
            "1875/1875 [==============================] - 47s 25ms/step - loss: 0.0900 - accuracy: 0.9657\n",
            "Epoch 26/30\n",
            "1875/1875 [==============================] - 46s 24ms/step - loss: 0.0884 - accuracy: 0.9658\n",
            "Epoch 27/30\n",
            "1875/1875 [==============================] - 46s 25ms/step - loss: 0.0852 - accuracy: 0.9675\n",
            "Epoch 28/30\n",
            "1875/1875 [==============================] - 46s 25ms/step - loss: 0.0805 - accuracy: 0.9694\n",
            "Epoch 29/30\n",
            "1875/1875 [==============================] - 45s 24ms/step - loss: 0.0811 - accuracy: 0.9696\n",
            "Epoch 30/30\n",
            "1875/1875 [==============================] - 46s 25ms/step - loss: 0.0762 - accuracy: 0.9717\n"
          ]
        },
        {
          "output_type": "execute_result",
          "data": {
            "text/plain": [
              "<keras.callbacks.History at 0x7fa00844bac0>"
            ]
          },
          "metadata": {},
          "execution_count": 11
        }
      ]
    },
    {
      "cell_type": "markdown",
      "metadata": {
        "id": "p5L-u4twwfsl"
      },
      "source": [
        "## Evaluate the Model"
      ]
    },
    {
      "cell_type": "code",
      "metadata": {
        "colab": {
          "base_uri": "https://localhost:8080/"
        },
        "id": "ob-06S51wkLu",
        "outputId": "d625ba53-e152-4ada-f16a-391bf5de61e2"
      },
      "source": [
        "test_loss, test_acc = model.evaluate(test_images, test_labels, verbose=1)\n",
        "print('Test Accuracy:', test_acc)"
      ],
      "execution_count": 12,
      "outputs": [
        {
          "output_type": "stream",
          "name": "stdout",
          "text": [
            "313/313 [==============================] - 4s 12ms/step - loss: 0.5221 - accuracy: 0.9005\n",
            "Test Accuracy: 0.9004999995231628\n"
          ]
        }
      ]
    },
    {
      "cell_type": "markdown",
      "metadata": {
        "id": "RpArkIhtxR0P"
      },
      "source": [
        "## Make a Prediction"
      ]
    },
    {
      "cell_type": "code",
      "metadata": {
        "colab": {
          "base_uri": "https://localhost:8080/",
          "height": 713
        },
        "id": "4q8BDi5FxUNG",
        "outputId": "f30f269d-05be-438b-c4f6-bf616eb85ac7"
      },
      "source": [
        "predictions = model.predict(test_images)\n",
        "print(predictions)\n",
        "# predictions = model.predict([test_images[0]])\n",
        "\n",
        "print(np.argmax(predictions[101]))\n",
        "print(class_names[np.argmax(predictions[101])])\n",
        "\n",
        "plt.figure()\n",
        "plt.imshow(test_images[101].reshape(28,28))\n",
        "plt.colorbar()\n",
        "plt.grid(False)\n",
        "plt.show()"
      ],
      "execution_count": 13,
      "outputs": [
        {
          "output_type": "stream",
          "name": "stdout",
          "text": [
            "313/313 [==============================] - 3s 10ms/step\n",
            "[[1.7358360e-18 1.2583218e-21 2.7425167e-24 ... 3.3844574e-09\n",
            "  3.0778729e-19 9.9999994e-01]\n",
            " [8.1697804e-09 1.8510648e-22 9.9999994e-01 ... 1.1647870e-15\n",
            "  6.2185568e-14 9.4773367e-26]\n",
            " [0.0000000e+00 9.9999994e-01 5.4904286e-38 ... 0.0000000e+00\n",
            "  5.5131833e-29 0.0000000e+00]\n",
            " ...\n",
            " [2.3870797e-16 2.2793610e-21 3.9793012e-17 ... 3.2238059e-15\n",
            "  9.9999994e-01 5.0207901e-28]\n",
            " [3.3828822e-28 9.9999994e-01 2.2511975e-30 ... 0.0000000e+00\n",
            "  2.0062373e-25 0.0000000e+00]\n",
            " [9.1143937e-09 3.6734730e-15 4.0776924e-10 ... 2.0612782e-01\n",
            "  3.4478981e-06 4.2607578e-08]]\n",
            "6\n",
            "Shirt\n"
          ]
        },
        {
          "output_type": "display_data",
          "data": {
            "text/plain": [
              "<Figure size 640x480 with 2 Axes>"
            ],
            "image/png": "[encoded data removed]"
          },
          "metadata": {}
        }
      ]
    },
    {
      "cell_type": "code",
      "metadata": {
        "colab": {
          "base_uri": "https://localhost:8080/",
          "height": 504
        },
        "id": "A2X4IOx9yk--",
        "outputId": "612486ee-3c9b-48b4-c748-dcd45aa46c9b"
      },
      "source": [
        "COLOR = 'white'\n",
        "plt.rcParams['text.color'] = COLOR\n",
        "plt.rcParams['axes.labelcolor'] = COLOR \n",
        "\n",
        "def show_image(img, label, guess):\n",
        "  img = img.reshape(28,28)\n",
        "  plt.figure()\n",
        "  plt.imshow(img, cmap=plt.cm.binary)\n",
        "  # plt.title(\"Corrected label: \" + label)\n",
        "  # plt.xlabel(\"Guessed label: \" + guess)\n",
        "  plt.colorbar()\n",
        "  plt.grid(False)\n",
        "  plt.show()\n",
        "  print(\"Correct label: \" + label)\n",
        "  print(\"Guessed label: \" + guess)\n",
        "\n",
        "def predict(model, image, correct_label):\n",
        "  class_names = ['T-shirt/top', 'Trouser', 'Pullover', 'Dress', 'Coat', 'Sandal', 'Shirt', 'Sneaker', 'Bag', 'Ankle boot']\n",
        "  prediction = model.predict(np.array([image]))\n",
        "  predicted_class = class_names[np.argmax(prediction)]\n",
        "  show_image(image, class_names[correct_label], predicted_class)\n",
        "\n",
        "def get_number():\n",
        "  while True:\n",
        "    num = input(\"Choose a number: \")\n",
        "    if num.isdigit():\n",
        "      num = int(num)\n",
        "      if 0<=num<=1000:\n",
        "        return int(num)\n",
        "    else:\n",
        "      print(\"Try again...\")\n",
        "\n",
        "num = get_number()\n",
        "image = test_images[num]\n",
        "label = test_labels[num]\n",
        "predict(model, image, label)"
      ],
      "execution_count": 14,
      "outputs": [
        {
          "output_type": "stream",
          "name": "stdout",
          "text": [
            "Choose a number: 11\n",
            "1/1 [==============================] - 0s 24ms/step\n"
          ]
        },
        {
          "output_type": "display_data",
          "data": {
            "text/plain": [
              "<Figure size 640x480 with 2 Axes>"
            ],
            "image/png": "[encoded data removed]"
          },
          "metadata": {}
        },
        {
          "output_type": "stream",
          "name": "stdout",
          "text": [
            "Correct label: Sandal\n",
            "Guessed label: Sandal\n"
          ]
        }
      ]
    }
  ]
}